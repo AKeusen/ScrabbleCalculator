{
  "nbformat": 4,
  "nbformat_minor": 0,
  "metadata": {
    "colab": {
      "name": "ScrabbleCalculator",
      "provenance": [],
      "collapsed_sections": [
        "cu7slFN6frZK"
      ],
      "authorship_tag": "ABX9TyOzyHhaxF+8Xsla/FnebV+u",
      "include_colab_link": true
    },
    "kernelspec": {
      "name": "python3",
      "display_name": "Python 3"
    }
  },
  "cells": [
    {
      "cell_type": "markdown",
      "metadata": {
        "id": "view-in-github",
        "colab_type": "text"
      },
      "source": [
        "<a href=\"https://colab.research.google.com/github/AKeusen/ScrabbleCalculator/blob/main/ScrabbleCalculator.ipynb\" target=\"_parent\"><img src=\"https://colab.research.google.com/assets/colab-badge.svg\" alt=\"Open In Colab\"/></a>"
      ]
    },
    {
      "cell_type": "markdown",
      "metadata": {
        "id": "bWBQl1XnfIjo"
      },
      "source": [
        "# Calcul de votre valeur au Scrabble"
      ]
    },
    {
      "cell_type": "markdown",
      "metadata": {
        "id": "56Sbn2E1fQb4"
      },
      "source": [
        "### Calculez le score de votre prénom au Scrabble en quelques secondes !"
      ]
    },
    {
      "cell_type": "markdown",
      "metadata": {
        "id": "cu7slFN6frZK"
      },
      "source": [
        "####Etape 1: runez ce code (maj + enter sur la case ou bouton run)"
      ]
    },
    {
      "cell_type": "code",
      "metadata": {
        "id": "qK-KqWp9fzSo"
      },
      "source": [
        "\r\n",
        "def supprAccents(text):\r\n",
        "  text=text.replace('é','e')\r\n",
        "  text=text.replace('è','e')\r\n",
        "  return(text)\r\n",
        "\r\n",
        "def calculScrabble(entry):\r\n",
        "  entryClean=entry.lower()\r\n",
        "  entryClean = supprAccents(entryClean)\r\n",
        "  entryClean = str(entryClean)\r\n",
        "  liste1=['a','e','i','o','u','l','n','r','s','t']\r\n",
        "  liste2=['d','g','m']\r\n",
        "  liste3=['b','c','p']\r\n",
        "  liste4=['f','h','v']\r\n",
        "  liste8=['j','q']\r\n",
        "  liste10=['k','w','x','y','z']\r\n",
        "  score=0\r\n",
        "  for i in entryClean:\r\n",
        "    if i in liste1:\r\n",
        "      score+=1\r\n",
        "    elif i in liste2:\r\n",
        "      score+=2\r\n",
        "    elif i in liste3:\r\n",
        "      score+=3\r\n",
        "    elif i in liste4:\r\n",
        "      score+=4\r\n",
        "    elif i in liste8:\r\n",
        "      score+=8\r\n",
        "    elif i in liste10:\r\n",
        "      score+=10\r\n",
        "  if score <64:\r\n",
        "    print(entry, 'vaut ', score, ' points au Scrabble, pas assez pour battre Tanguy lol')\r\n",
        "  elif score ==64:\r\n",
        "    print(entry, 'vaut ', score, ' points au Scrabble, à égalité avec Tanguy ! A moins que ça ne soit vous...')\r\n",
        "  else:\r\n",
        "    print(entry, 'vaut ', score, ' points au Scrabble, incroyable tu vaux plus que Tanguy !')\r\n"
      ],
      "execution_count": null,
      "outputs": []
    },
    {
      "cell_type": "markdown",
      "metadata": {
        "id": "5WPa5YKotRlK"
      },
      "source": [
        "####Etape 2: runez le code suivant et entrez-y votre nom !"
      ]
    },
    {
      "cell_type": "code",
      "metadata": {
        "id": "dIWkS107jNsf"
      },
      "source": [
        "calculScrabble(input())"
      ],
      "execution_count": null,
      "outputs": []
    }
  ]
}